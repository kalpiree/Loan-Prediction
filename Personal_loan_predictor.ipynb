{
  "nbformat": 4,
  "nbformat_minor": 0,
  "metadata": {
    "colab": {
      "name": "Personal_loan_predictor.ipynb",
      "provenance": []
    },
    "kernelspec": {
      "name": "python3",
      "display_name": "Python 3"
    },
    "language_info": {
      "name": "python"
    }
  },
  "cells": [
    {
      "cell_type": "code",
      "execution_count": 17,
      "metadata": {
        "id": "hfvIMnMyhKS5"
      },
      "outputs": [],
      "source": [
        "import pandas as pd  \n",
        "import numpy as np\n",
        "import matplotlib.pyplot as plt\n",
        "import matplotlib.image as mpimg\n",
        "from matplotlib import style\n",
        "import seaborn as sns\n",
        "from sklearn.preprocessing import StandardScaler\n",
        "from sklearn.decomposition import PCA\n",
        "from sklearn.model_selection import (\n",
        "    train_test_split,\n",
        "    TimeSeriesSplit,\n",
        "    KFold,\n",
        "    StratifiedKFold,\n",
        "    GroupKFold,\n",
        "    StratifiedGroupKFold,\n",
        ")\n",
        "from sklearn.ensemble import RandomForestClassifier\n",
        "from sklearn import metrics\n",
        "from sklearn.model_selection import validation_curve\n",
        "from sklearn.metrics import accuracy_score, roc_auc_score\n",
        "from sklearn.svm import SVC\n",
        "from sklearn.model_selection import cross_val_score\n",
        "\n",
        "# evaluate a logistic regression model using k-fold cross-validation\n",
        "from numpy import mean\n",
        "from numpy import std\n",
        "from sklearn.ensemble import GradientBoostingClassifier\n",
        "from sklearn.metrics import accuracy_score\n",
        "from sklearn.ensemble import RandomForestClassifier, BaggingClassifier, AdaBoostClassifier, VotingClassifier\n",
        "from sklearn.neural_network import MLPClassifier\n",
        "import warnings\n",
        "warnings.filterwarnings('ignore')"
      ]
    },
    {
      "cell_type": "code",
      "source": [
        "# Read in data and display first 5 rows\n",
        "df = pd.read_csv (r'/content/Bank_Personal_Loan_Modelling.csv')\n",
        "df.head()"
      ],
      "metadata": {
        "colab": {
          "base_uri": "https://localhost:8080/",
          "height": 206
        },
        "id": "jEhafyPXjFYM",
        "outputId": "9110bce5-fddf-4305-e8f0-efb4c96b6fe0"
      },
      "execution_count": 18,
      "outputs": [
        {
          "output_type": "execute_result",
          "data": {
            "text/plain": [
              "   ID  Age  Experience  Income  ZIP Code  Family  CCAvg  Education  Mortgage  \\\n",
              "0   1   25           1      49     91107       4    1.6          1         0   \n",
              "1   2   45          19      34     90089       3    1.5          1         0   \n",
              "2   3   39          15      11     94720       1    1.0          1         0   \n",
              "3   4   35           9     100     94112       1    2.7          2         0   \n",
              "4   5   35           8      45     91330       4    1.0          2         0   \n",
              "\n",
              "   Personal Loan  Securities Account  CD Account  Online  CreditCard  \n",
              "0              0                   1           0       0           0  \n",
              "1              0                   1           0       0           0  \n",
              "2              0                   0           0       0           0  \n",
              "3              0                   0           0       0           0  \n",
              "4              0                   0           0       0           1  "
            ],
            "text/html": [
              "\n",
              "  <div id=\"df-f5bcba2b-6528-4642-826c-98e6d372f8f4\">\n",
              "    <div class=\"colab-df-container\">\n",
              "      <div>\n",
              "<style scoped>\n",
              "    .dataframe tbody tr th:only-of-type {\n",
              "        vertical-align: middle;\n",
              "    }\n",
              "\n",
              "    .dataframe tbody tr th {\n",
              "        vertical-align: top;\n",
              "    }\n",
              "\n",
              "    .dataframe thead th {\n",
              "        text-align: right;\n",
              "    }\n",
              "</style>\n",
              "<table border=\"1\" class=\"dataframe\">\n",
              "  <thead>\n",
              "    <tr style=\"text-align: right;\">\n",
              "      <th></th>\n",
              "      <th>ID</th>\n",
              "      <th>Age</th>\n",
              "      <th>Experience</th>\n",
              "      <th>Income</th>\n",
              "      <th>ZIP Code</th>\n",
              "      <th>Family</th>\n",
              "      <th>CCAvg</th>\n",
              "      <th>Education</th>\n",
              "      <th>Mortgage</th>\n",
              "      <th>Personal Loan</th>\n",
              "      <th>Securities Account</th>\n",
              "      <th>CD Account</th>\n",
              "      <th>Online</th>\n",
              "      <th>CreditCard</th>\n",
              "    </tr>\n",
              "  </thead>\n",
              "  <tbody>\n",
              "    <tr>\n",
              "      <th>0</th>\n",
              "      <td>1</td>\n",
              "      <td>25</td>\n",
              "      <td>1</td>\n",
              "      <td>49</td>\n",
              "      <td>91107</td>\n",
              "      <td>4</td>\n",
              "      <td>1.6</td>\n",
              "      <td>1</td>\n",
              "      <td>0</td>\n",
              "      <td>0</td>\n",
              "      <td>1</td>\n",
              "      <td>0</td>\n",
              "      <td>0</td>\n",
              "      <td>0</td>\n",
              "    </tr>\n",
              "    <tr>\n",
              "      <th>1</th>\n",
              "      <td>2</td>\n",
              "      <td>45</td>\n",
              "      <td>19</td>\n",
              "      <td>34</td>\n",
              "      <td>90089</td>\n",
              "      <td>3</td>\n",
              "      <td>1.5</td>\n",
              "      <td>1</td>\n",
              "      <td>0</td>\n",
              "      <td>0</td>\n",
              "      <td>1</td>\n",
              "      <td>0</td>\n",
              "      <td>0</td>\n",
              "      <td>0</td>\n",
              "    </tr>\n",
              "    <tr>\n",
              "      <th>2</th>\n",
              "      <td>3</td>\n",
              "      <td>39</td>\n",
              "      <td>15</td>\n",
              "      <td>11</td>\n",
              "      <td>94720</td>\n",
              "      <td>1</td>\n",
              "      <td>1.0</td>\n",
              "      <td>1</td>\n",
              "      <td>0</td>\n",
              "      <td>0</td>\n",
              "      <td>0</td>\n",
              "      <td>0</td>\n",
              "      <td>0</td>\n",
              "      <td>0</td>\n",
              "    </tr>\n",
              "    <tr>\n",
              "      <th>3</th>\n",
              "      <td>4</td>\n",
              "      <td>35</td>\n",
              "      <td>9</td>\n",
              "      <td>100</td>\n",
              "      <td>94112</td>\n",
              "      <td>1</td>\n",
              "      <td>2.7</td>\n",
              "      <td>2</td>\n",
              "      <td>0</td>\n",
              "      <td>0</td>\n",
              "      <td>0</td>\n",
              "      <td>0</td>\n",
              "      <td>0</td>\n",
              "      <td>0</td>\n",
              "    </tr>\n",
              "    <tr>\n",
              "      <th>4</th>\n",
              "      <td>5</td>\n",
              "      <td>35</td>\n",
              "      <td>8</td>\n",
              "      <td>45</td>\n",
              "      <td>91330</td>\n",
              "      <td>4</td>\n",
              "      <td>1.0</td>\n",
              "      <td>2</td>\n",
              "      <td>0</td>\n",
              "      <td>0</td>\n",
              "      <td>0</td>\n",
              "      <td>0</td>\n",
              "      <td>0</td>\n",
              "      <td>1</td>\n",
              "    </tr>\n",
              "  </tbody>\n",
              "</table>\n",
              "</div>\n",
              "      <button class=\"colab-df-convert\" onclick=\"convertToInteractive('df-f5bcba2b-6528-4642-826c-98e6d372f8f4')\"\n",
              "              title=\"Convert this dataframe to an interactive table.\"\n",
              "              style=\"display:none;\">\n",
              "        \n",
              "  <svg xmlns=\"http://www.w3.org/2000/svg\" height=\"24px\"viewBox=\"0 0 24 24\"\n",
              "       width=\"24px\">\n",
              "    <path d=\"M0 0h24v24H0V0z\" fill=\"none\"/>\n",
              "    <path d=\"M18.56 5.44l.94 2.06.94-2.06 2.06-.94-2.06-.94-.94-2.06-.94 2.06-2.06.94zm-11 1L8.5 8.5l.94-2.06 2.06-.94-2.06-.94L8.5 2.5l-.94 2.06-2.06.94zm10 10l.94 2.06.94-2.06 2.06-.94-2.06-.94-.94-2.06-.94 2.06-2.06.94z\"/><path d=\"M17.41 7.96l-1.37-1.37c-.4-.4-.92-.59-1.43-.59-.52 0-1.04.2-1.43.59L10.3 9.45l-7.72 7.72c-.78.78-.78 2.05 0 2.83L4 21.41c.39.39.9.59 1.41.59.51 0 1.02-.2 1.41-.59l7.78-7.78 2.81-2.81c.8-.78.8-2.07 0-2.86zM5.41 20L4 18.59l7.72-7.72 1.47 1.35L5.41 20z\"/>\n",
              "  </svg>\n",
              "      </button>\n",
              "      \n",
              "  <style>\n",
              "    .colab-df-container {\n",
              "      display:flex;\n",
              "      flex-wrap:wrap;\n",
              "      gap: 12px;\n",
              "    }\n",
              "\n",
              "    .colab-df-convert {\n",
              "      background-color: #E8F0FE;\n",
              "      border: none;\n",
              "      border-radius: 50%;\n",
              "      cursor: pointer;\n",
              "      display: none;\n",
              "      fill: #1967D2;\n",
              "      height: 32px;\n",
              "      padding: 0 0 0 0;\n",
              "      width: 32px;\n",
              "    }\n",
              "\n",
              "    .colab-df-convert:hover {\n",
              "      background-color: #E2EBFA;\n",
              "      box-shadow: 0px 1px 2px rgba(60, 64, 67, 0.3), 0px 1px 3px 1px rgba(60, 64, 67, 0.15);\n",
              "      fill: #174EA6;\n",
              "    }\n",
              "\n",
              "    [theme=dark] .colab-df-convert {\n",
              "      background-color: #3B4455;\n",
              "      fill: #D2E3FC;\n",
              "    }\n",
              "\n",
              "    [theme=dark] .colab-df-convert:hover {\n",
              "      background-color: #434B5C;\n",
              "      box-shadow: 0px 1px 3px 1px rgba(0, 0, 0, 0.15);\n",
              "      filter: drop-shadow(0px 1px 2px rgba(0, 0, 0, 0.3));\n",
              "      fill: #FFFFFF;\n",
              "    }\n",
              "  </style>\n",
              "\n",
              "      <script>\n",
              "        const buttonEl =\n",
              "          document.querySelector('#df-f5bcba2b-6528-4642-826c-98e6d372f8f4 button.colab-df-convert');\n",
              "        buttonEl.style.display =\n",
              "          google.colab.kernel.accessAllowed ? 'block' : 'none';\n",
              "\n",
              "        async function convertToInteractive(key) {\n",
              "          const element = document.querySelector('#df-f5bcba2b-6528-4642-826c-98e6d372f8f4');\n",
              "          const dataTable =\n",
              "            await google.colab.kernel.invokeFunction('convertToInteractive',\n",
              "                                                     [key], {});\n",
              "          if (!dataTable) return;\n",
              "\n",
              "          const docLinkHtml = 'Like what you see? Visit the ' +\n",
              "            '<a target=\"_blank\" href=https://colab.research.google.com/notebooks/data_table.ipynb>data table notebook</a>'\n",
              "            + ' to learn more about interactive tables.';\n",
              "          element.innerHTML = '';\n",
              "          dataTable['output_type'] = 'display_data';\n",
              "          await google.colab.output.renderOutput(dataTable, element);\n",
              "          const docLink = document.createElement('div');\n",
              "          docLink.innerHTML = docLinkHtml;\n",
              "          element.appendChild(docLink);\n",
              "        }\n",
              "      </script>\n",
              "    </div>\n",
              "  </div>\n",
              "  "
            ]
          },
          "metadata": {},
          "execution_count": 18
        }
      ]
    },
    {
      "cell_type": "code",
      "source": [
        "print('Shape of data{}'.format(df.shape))\n",
        "print('No.of rows {} '.format(df.shape[0]))\n",
        "print('No.of columns {} '.format(df.shape[1]))"
      ],
      "metadata": {
        "colab": {
          "base_uri": "https://localhost:8080/"
        },
        "id": "R7hSq7nejMbj",
        "outputId": "d9a29510-1bf8-45f8-d7a5-dd9b82750159"
      },
      "execution_count": 19,
      "outputs": [
        {
          "output_type": "stream",
          "name": "stdout",
          "text": [
            "Shape of data(5000, 14)\n",
            "No.of rows 5000 \n",
            "No.of columns 14 \n"
          ]
        }
      ]
    },
    {
      "cell_type": "code",
      "source": [
        "df.info()"
      ],
      "metadata": {
        "colab": {
          "base_uri": "https://localhost:8080/"
        },
        "id": "dmAvcRx4jtEA",
        "outputId": "982e69b5-b543-4194-a767-9f29b661b6f2"
      },
      "execution_count": 20,
      "outputs": [
        {
          "output_type": "stream",
          "name": "stdout",
          "text": [
            "<class 'pandas.core.frame.DataFrame'>\n",
            "RangeIndex: 5000 entries, 0 to 4999\n",
            "Data columns (total 14 columns):\n",
            " #   Column              Non-Null Count  Dtype  \n",
            "---  ------              --------------  -----  \n",
            " 0   ID                  5000 non-null   int64  \n",
            " 1   Age                 5000 non-null   int64  \n",
            " 2   Experience          5000 non-null   int64  \n",
            " 3   Income              5000 non-null   int64  \n",
            " 4   ZIP Code            5000 non-null   int64  \n",
            " 5   Family              5000 non-null   int64  \n",
            " 6   CCAvg               5000 non-null   float64\n",
            " 7   Education           5000 non-null   int64  \n",
            " 8   Mortgage            5000 non-null   int64  \n",
            " 9   Personal Loan       5000 non-null   int64  \n",
            " 10  Securities Account  5000 non-null   int64  \n",
            " 11  CD Account          5000 non-null   int64  \n",
            " 12  Online              5000 non-null   int64  \n",
            " 13  CreditCard          5000 non-null   int64  \n",
            "dtypes: float64(1), int64(13)\n",
            "memory usage: 547.0 KB\n"
          ]
        }
      ]
    },
    {
      "cell_type": "code",
      "source": [
        "df.describe()"
      ],
      "metadata": {
        "colab": {
          "base_uri": "https://localhost:8080/",
          "height": 362
        },
        "id": "llRedB0Zj6nL",
        "outputId": "010c76a3-f522-41bb-e637-aecfc605340b"
      },
      "execution_count": 21,
      "outputs": [
        {
          "output_type": "execute_result",
          "data": {
            "text/plain": [
              "                ID          Age   Experience       Income      ZIP Code  \\\n",
              "count  5000.000000  5000.000000  5000.000000  5000.000000   5000.000000   \n",
              "mean   2500.500000    45.338400    20.104600    73.774200  93152.503000   \n",
              "std    1443.520003    11.463166    11.467954    46.033729   2121.852197   \n",
              "min       1.000000    23.000000    -3.000000     8.000000   9307.000000   \n",
              "25%    1250.750000    35.000000    10.000000    39.000000  91911.000000   \n",
              "50%    2500.500000    45.000000    20.000000    64.000000  93437.000000   \n",
              "75%    3750.250000    55.000000    30.000000    98.000000  94608.000000   \n",
              "max    5000.000000    67.000000    43.000000   224.000000  96651.000000   \n",
              "\n",
              "            Family        CCAvg    Education     Mortgage  Personal Loan  \\\n",
              "count  5000.000000  5000.000000  5000.000000  5000.000000    5000.000000   \n",
              "mean      2.396400     1.937938     1.881000    56.498800       0.096000   \n",
              "std       1.147663     1.747659     0.839869   101.713802       0.294621   \n",
              "min       1.000000     0.000000     1.000000     0.000000       0.000000   \n",
              "25%       1.000000     0.700000     1.000000     0.000000       0.000000   \n",
              "50%       2.000000     1.500000     2.000000     0.000000       0.000000   \n",
              "75%       3.000000     2.500000     3.000000   101.000000       0.000000   \n",
              "max       4.000000    10.000000     3.000000   635.000000       1.000000   \n",
              "\n",
              "       Securities Account  CD Account       Online   CreditCard  \n",
              "count         5000.000000  5000.00000  5000.000000  5000.000000  \n",
              "mean             0.104400     0.06040     0.596800     0.294000  \n",
              "std              0.305809     0.23825     0.490589     0.455637  \n",
              "min              0.000000     0.00000     0.000000     0.000000  \n",
              "25%              0.000000     0.00000     0.000000     0.000000  \n",
              "50%              0.000000     0.00000     1.000000     0.000000  \n",
              "75%              0.000000     0.00000     1.000000     1.000000  \n",
              "max              1.000000     1.00000     1.000000     1.000000  "
            ],
            "text/html": [
              "\n",
              "  <div id=\"df-ea124b55-ada2-4005-97cb-b1b526f56d42\">\n",
              "    <div class=\"colab-df-container\">\n",
              "      <div>\n",
              "<style scoped>\n",
              "    .dataframe tbody tr th:only-of-type {\n",
              "        vertical-align: middle;\n",
              "    }\n",
              "\n",
              "    .dataframe tbody tr th {\n",
              "        vertical-align: top;\n",
              "    }\n",
              "\n",
              "    .dataframe thead th {\n",
              "        text-align: right;\n",
              "    }\n",
              "</style>\n",
              "<table border=\"1\" class=\"dataframe\">\n",
              "  <thead>\n",
              "    <tr style=\"text-align: right;\">\n",
              "      <th></th>\n",
              "      <th>ID</th>\n",
              "      <th>Age</th>\n",
              "      <th>Experience</th>\n",
              "      <th>Income</th>\n",
              "      <th>ZIP Code</th>\n",
              "      <th>Family</th>\n",
              "      <th>CCAvg</th>\n",
              "      <th>Education</th>\n",
              "      <th>Mortgage</th>\n",
              "      <th>Personal Loan</th>\n",
              "      <th>Securities Account</th>\n",
              "      <th>CD Account</th>\n",
              "      <th>Online</th>\n",
              "      <th>CreditCard</th>\n",
              "    </tr>\n",
              "  </thead>\n",
              "  <tbody>\n",
              "    <tr>\n",
              "      <th>count</th>\n",
              "      <td>5000.000000</td>\n",
              "      <td>5000.000000</td>\n",
              "      <td>5000.000000</td>\n",
              "      <td>5000.000000</td>\n",
              "      <td>5000.000000</td>\n",
              "      <td>5000.000000</td>\n",
              "      <td>5000.000000</td>\n",
              "      <td>5000.000000</td>\n",
              "      <td>5000.000000</td>\n",
              "      <td>5000.000000</td>\n",
              "      <td>5000.000000</td>\n",
              "      <td>5000.00000</td>\n",
              "      <td>5000.000000</td>\n",
              "      <td>5000.000000</td>\n",
              "    </tr>\n",
              "    <tr>\n",
              "      <th>mean</th>\n",
              "      <td>2500.500000</td>\n",
              "      <td>45.338400</td>\n",
              "      <td>20.104600</td>\n",
              "      <td>73.774200</td>\n",
              "      <td>93152.503000</td>\n",
              "      <td>2.396400</td>\n",
              "      <td>1.937938</td>\n",
              "      <td>1.881000</td>\n",
              "      <td>56.498800</td>\n",
              "      <td>0.096000</td>\n",
              "      <td>0.104400</td>\n",
              "      <td>0.06040</td>\n",
              "      <td>0.596800</td>\n",
              "      <td>0.294000</td>\n",
              "    </tr>\n",
              "    <tr>\n",
              "      <th>std</th>\n",
              "      <td>1443.520003</td>\n",
              "      <td>11.463166</td>\n",
              "      <td>11.467954</td>\n",
              "      <td>46.033729</td>\n",
              "      <td>2121.852197</td>\n",
              "      <td>1.147663</td>\n",
              "      <td>1.747659</td>\n",
              "      <td>0.839869</td>\n",
              "      <td>101.713802</td>\n",
              "      <td>0.294621</td>\n",
              "      <td>0.305809</td>\n",
              "      <td>0.23825</td>\n",
              "      <td>0.490589</td>\n",
              "      <td>0.455637</td>\n",
              "    </tr>\n",
              "    <tr>\n",
              "      <th>min</th>\n",
              "      <td>1.000000</td>\n",
              "      <td>23.000000</td>\n",
              "      <td>-3.000000</td>\n",
              "      <td>8.000000</td>\n",
              "      <td>9307.000000</td>\n",
              "      <td>1.000000</td>\n",
              "      <td>0.000000</td>\n",
              "      <td>1.000000</td>\n",
              "      <td>0.000000</td>\n",
              "      <td>0.000000</td>\n",
              "      <td>0.000000</td>\n",
              "      <td>0.00000</td>\n",
              "      <td>0.000000</td>\n",
              "      <td>0.000000</td>\n",
              "    </tr>\n",
              "    <tr>\n",
              "      <th>25%</th>\n",
              "      <td>1250.750000</td>\n",
              "      <td>35.000000</td>\n",
              "      <td>10.000000</td>\n",
              "      <td>39.000000</td>\n",
              "      <td>91911.000000</td>\n",
              "      <td>1.000000</td>\n",
              "      <td>0.700000</td>\n",
              "      <td>1.000000</td>\n",
              "      <td>0.000000</td>\n",
              "      <td>0.000000</td>\n",
              "      <td>0.000000</td>\n",
              "      <td>0.00000</td>\n",
              "      <td>0.000000</td>\n",
              "      <td>0.000000</td>\n",
              "    </tr>\n",
              "    <tr>\n",
              "      <th>50%</th>\n",
              "      <td>2500.500000</td>\n",
              "      <td>45.000000</td>\n",
              "      <td>20.000000</td>\n",
              "      <td>64.000000</td>\n",
              "      <td>93437.000000</td>\n",
              "      <td>2.000000</td>\n",
              "      <td>1.500000</td>\n",
              "      <td>2.000000</td>\n",
              "      <td>0.000000</td>\n",
              "      <td>0.000000</td>\n",
              "      <td>0.000000</td>\n",
              "      <td>0.00000</td>\n",
              "      <td>1.000000</td>\n",
              "      <td>0.000000</td>\n",
              "    </tr>\n",
              "    <tr>\n",
              "      <th>75%</th>\n",
              "      <td>3750.250000</td>\n",
              "      <td>55.000000</td>\n",
              "      <td>30.000000</td>\n",
              "      <td>98.000000</td>\n",
              "      <td>94608.000000</td>\n",
              "      <td>3.000000</td>\n",
              "      <td>2.500000</td>\n",
              "      <td>3.000000</td>\n",
              "      <td>101.000000</td>\n",
              "      <td>0.000000</td>\n",
              "      <td>0.000000</td>\n",
              "      <td>0.00000</td>\n",
              "      <td>1.000000</td>\n",
              "      <td>1.000000</td>\n",
              "    </tr>\n",
              "    <tr>\n",
              "      <th>max</th>\n",
              "      <td>5000.000000</td>\n",
              "      <td>67.000000</td>\n",
              "      <td>43.000000</td>\n",
              "      <td>224.000000</td>\n",
              "      <td>96651.000000</td>\n",
              "      <td>4.000000</td>\n",
              "      <td>10.000000</td>\n",
              "      <td>3.000000</td>\n",
              "      <td>635.000000</td>\n",
              "      <td>1.000000</td>\n",
              "      <td>1.000000</td>\n",
              "      <td>1.00000</td>\n",
              "      <td>1.000000</td>\n",
              "      <td>1.000000</td>\n",
              "    </tr>\n",
              "  </tbody>\n",
              "</table>\n",
              "</div>\n",
              "      <button class=\"colab-df-convert\" onclick=\"convertToInteractive('df-ea124b55-ada2-4005-97cb-b1b526f56d42')\"\n",
              "              title=\"Convert this dataframe to an interactive table.\"\n",
              "              style=\"display:none;\">\n",
              "        \n",
              "  <svg xmlns=\"http://www.w3.org/2000/svg\" height=\"24px\"viewBox=\"0 0 24 24\"\n",
              "       width=\"24px\">\n",
              "    <path d=\"M0 0h24v24H0V0z\" fill=\"none\"/>\n",
              "    <path d=\"M18.56 5.44l.94 2.06.94-2.06 2.06-.94-2.06-.94-.94-2.06-.94 2.06-2.06.94zm-11 1L8.5 8.5l.94-2.06 2.06-.94-2.06-.94L8.5 2.5l-.94 2.06-2.06.94zm10 10l.94 2.06.94-2.06 2.06-.94-2.06-.94-.94-2.06-.94 2.06-2.06.94z\"/><path d=\"M17.41 7.96l-1.37-1.37c-.4-.4-.92-.59-1.43-.59-.52 0-1.04.2-1.43.59L10.3 9.45l-7.72 7.72c-.78.78-.78 2.05 0 2.83L4 21.41c.39.39.9.59 1.41.59.51 0 1.02-.2 1.41-.59l7.78-7.78 2.81-2.81c.8-.78.8-2.07 0-2.86zM5.41 20L4 18.59l7.72-7.72 1.47 1.35L5.41 20z\"/>\n",
              "  </svg>\n",
              "      </button>\n",
              "      \n",
              "  <style>\n",
              "    .colab-df-container {\n",
              "      display:flex;\n",
              "      flex-wrap:wrap;\n",
              "      gap: 12px;\n",
              "    }\n",
              "\n",
              "    .colab-df-convert {\n",
              "      background-color: #E8F0FE;\n",
              "      border: none;\n",
              "      border-radius: 50%;\n",
              "      cursor: pointer;\n",
              "      display: none;\n",
              "      fill: #1967D2;\n",
              "      height: 32px;\n",
              "      padding: 0 0 0 0;\n",
              "      width: 32px;\n",
              "    }\n",
              "\n",
              "    .colab-df-convert:hover {\n",
              "      background-color: #E2EBFA;\n",
              "      box-shadow: 0px 1px 2px rgba(60, 64, 67, 0.3), 0px 1px 3px 1px rgba(60, 64, 67, 0.15);\n",
              "      fill: #174EA6;\n",
              "    }\n",
              "\n",
              "    [theme=dark] .colab-df-convert {\n",
              "      background-color: #3B4455;\n",
              "      fill: #D2E3FC;\n",
              "    }\n",
              "\n",
              "    [theme=dark] .colab-df-convert:hover {\n",
              "      background-color: #434B5C;\n",
              "      box-shadow: 0px 1px 3px 1px rgba(0, 0, 0, 0.15);\n",
              "      filter: drop-shadow(0px 1px 2px rgba(0, 0, 0, 0.3));\n",
              "      fill: #FFFFFF;\n",
              "    }\n",
              "  </style>\n",
              "\n",
              "      <script>\n",
              "        const buttonEl =\n",
              "          document.querySelector('#df-ea124b55-ada2-4005-97cb-b1b526f56d42 button.colab-df-convert');\n",
              "        buttonEl.style.display =\n",
              "          google.colab.kernel.accessAllowed ? 'block' : 'none';\n",
              "\n",
              "        async function convertToInteractive(key) {\n",
              "          const element = document.querySelector('#df-ea124b55-ada2-4005-97cb-b1b526f56d42');\n",
              "          const dataTable =\n",
              "            await google.colab.kernel.invokeFunction('convertToInteractive',\n",
              "                                                     [key], {});\n",
              "          if (!dataTable) return;\n",
              "\n",
              "          const docLinkHtml = 'Like what you see? Visit the ' +\n",
              "            '<a target=\"_blank\" href=https://colab.research.google.com/notebooks/data_table.ipynb>data table notebook</a>'\n",
              "            + ' to learn more about interactive tables.';\n",
              "          element.innerHTML = '';\n",
              "          dataTable['output_type'] = 'display_data';\n",
              "          await google.colab.output.renderOutput(dataTable, element);\n",
              "          const docLink = document.createElement('div');\n",
              "          docLink.innerHTML = docLinkHtml;\n",
              "          element.appendChild(docLink);\n",
              "        }\n",
              "      </script>\n",
              "    </div>\n",
              "  </div>\n",
              "  "
            ]
          },
          "metadata": {},
          "execution_count": 21
        }
      ]
    },
    {
      "cell_type": "code",
      "source": [
        "print(df.isna().sum().sort_values(ascending=False))"
      ],
      "metadata": {
        "colab": {
          "base_uri": "https://localhost:8080/"
        },
        "id": "5eLI9Q_upzAf",
        "outputId": "668888ca-3be3-4953-8cdc-597132f9510b"
      },
      "execution_count": 22,
      "outputs": [
        {
          "output_type": "stream",
          "name": "stdout",
          "text": [
            "ID                    0\n",
            "Age                   0\n",
            "Experience            0\n",
            "Income                0\n",
            "ZIP Code              0\n",
            "Family                0\n",
            "CCAvg                 0\n",
            "Education             0\n",
            "Mortgage              0\n",
            "Personal Loan         0\n",
            "Securities Account    0\n",
            "CD Account            0\n",
            "Online                0\n",
            "CreditCard            0\n",
            "dtype: int64\n"
          ]
        }
      ]
    },
    {
      "cell_type": "code",
      "source": [
        "df.columns"
      ],
      "metadata": {
        "colab": {
          "base_uri": "https://localhost:8080/"
        },
        "id": "whg-htYTkP0Y",
        "outputId": "60499259-6218-4172-c214-863c9bd2bce8"
      },
      "execution_count": 23,
      "outputs": [
        {
          "output_type": "execute_result",
          "data": {
            "text/plain": [
              "Index(['ID', 'Age', 'Experience', 'Income', 'ZIP Code', 'Family', 'CCAvg',\n",
              "       'Education', 'Mortgage', 'Personal Loan', 'Securities Account',\n",
              "       'CD Account', 'Online', 'CreditCard'],\n",
              "      dtype='object')"
            ]
          },
          "metadata": {},
          "execution_count": 23
        }
      ]
    },
    {
      "cell_type": "code",
      "source": [
        "col = df.columns.values.tolist()"
      ],
      "metadata": {
        "id": "Dx5Hfn1vkTHB"
      },
      "execution_count": 24,
      "outputs": []
    },
    {
      "cell_type": "code",
      "source": [
        "for c in col:\n",
        "    df[c].fillna(value=df[c].mean(), inplace=True)"
      ],
      "metadata": {
        "id": "OtEY67D4pOHf"
      },
      "execution_count": 25,
      "outputs": []
    },
    {
      "cell_type": "code",
      "source": [
        "df=df.drop(['ID'],axis=1)\n",
        "df=df.drop(['ZIP Code'],axis=1)"
      ],
      "metadata": {
        "id": "Ovpxq-FvpVZc"
      },
      "execution_count": 26,
      "outputs": []
    },
    {
      "cell_type": "code",
      "source": [
        "loan = np.unique(df['Personal Loan'], return_counts=True)\n",
        "print('loan={}\\n'.format(loan))"
      ],
      "metadata": {
        "colab": {
          "base_uri": "https://localhost:8080/"
        },
        "id": "8AV6avcqqVJt",
        "outputId": "b6352675-68bf-4971-e00f-4a7047a4daf9"
      },
      "execution_count": 28,
      "outputs": [
        {
          "output_type": "stream",
          "name": "stdout",
          "text": [
            "loan=(array([0, 1]), array([4520,  480]))\n",
            "\n"
          ]
        }
      ]
    },
    {
      "cell_type": "code",
      "source": [
        "title_dict= {'family':'serif','color':'darkred','weight':'bold','size':16}\n",
        "other_dict={'family':'serif','color':'black','size':14}"
      ],
      "metadata": {
        "id": "FIHK5XAAr3ir"
      },
      "execution_count": 29,
      "outputs": []
    },
    {
      "cell_type": "code",
      "source": [
        "fig = plt.figure(figsize=[16,15]);\n",
        "ax1=fig.add_subplot(3,3,2);\n",
        "sns.barplot(x=list(loan[0]),y=list(loan[1],ax=ax1);\n",
        "ax1.text(0.2,2800,'{}%'.format(str(round(loan[1][0]))))           [0]/sum(loan[1])*100,1)))"
      ],
      "metadata": {
        "id": "kKHX_3tBtED3"
      },
      "execution_count": null,
      "outputs": []
    },
    {
      "cell_type": "code",
      "source": [],
      "metadata": {
        "id": "bdJWSx2CuYYf"
      },
      "execution_count": null,
      "outputs": []
    },
    {
      "cell_type": "code",
      "source": [
        "categ_columns =[]\n",
        "for col in df.columns:\n",
        "  if df[col].nunique()<=5:\n",
        "    if col!='Personal Loan':\n",
        "      categ_columns.append(col)\n",
        "print('categ numericals columns are {}'.format(categ_columns))"
      ],
      "metadata": {
        "colab": {
          "base_uri": "https://localhost:8080/"
        },
        "id": "scL2kToEuYVl",
        "outputId": "4d5c5eba-5179-4cd1-d343-d28e8e8c37c3"
      },
      "execution_count": 30,
      "outputs": [
        {
          "output_type": "stream",
          "name": "stdout",
          "text": [
            "categ numericals columns are ['Family', 'Education', 'Securities Account', 'CD Account', 'Online', 'CreditCard']\n"
          ]
        }
      ]
    },
    {
      "cell_type": "code",
      "source": [
        "Num_cols=[col for col in df.columns if col not in categ_columns]\n",
        "print('numericals columns are {}'.format(Num_cols))"
      ],
      "metadata": {
        "colab": {
          "base_uri": "https://localhost:8080/"
        },
        "id": "O17M0e6rvA7J",
        "outputId": "2afa2615-c954-4179-df32-0352f7f32d8b"
      },
      "execution_count": 32,
      "outputs": [
        {
          "output_type": "stream",
          "name": "stdout",
          "text": [
            "numericals columns are ['Age', 'Experience', 'Income', 'CCAvg', 'Mortgage', 'Personal Loan']\n"
          ]
        }
      ]
    },
    {
      "cell_type": "code",
      "source": [
        "Num_cols.pop()\n",
        "Num_cols"
      ],
      "metadata": {
        "colab": {
          "base_uri": "https://localhost:8080/"
        },
        "id": "tbqPab2evbIG",
        "outputId": "f060e457-42b4-47bc-b8da-ddc6b39e4128"
      },
      "execution_count": 34,
      "outputs": [
        {
          "output_type": "execute_result",
          "data": {
            "text/plain": [
              "['Age', 'Experience', 'Income', 'CCAvg', 'Mortgage']"
            ]
          },
          "metadata": {},
          "execution_count": 34
        }
      ]
    },
    {
      "cell_type": "code",
      "source": [
        "X = df.drop('Personal Loan' ,1)"
      ],
      "metadata": {
        "id": "_RhWsDKKvsgF"
      },
      "execution_count": 38,
      "outputs": []
    },
    {
      "cell_type": "code",
      "source": [
        "y = df['Personal Loan']"
      ],
      "metadata": {
        "id": "T1Ao1g0Pzgh2"
      },
      "execution_count": 39,
      "outputs": []
    },
    {
      "cell_type": "code",
      "source": [
        "from sklearn.ensemble import ExtraTreesClassifier\n",
        "import matplotlib.pyplot as plt\n",
        "model = ExtraTreesClassifier()\n",
        "model.fit(X,y)"
      ],
      "metadata": {
        "colab": {
          "base_uri": "https://localhost:8080/"
        },
        "id": "utAAbxVUzh7c",
        "outputId": "74659275-fc3e-430f-9492-9fd52ae86c8f"
      },
      "execution_count": 40,
      "outputs": [
        {
          "output_type": "execute_result",
          "data": {
            "text/plain": [
              "ExtraTreesClassifier()"
            ]
          },
          "metadata": {},
          "execution_count": 40
        }
      ]
    },
    {
      "cell_type": "code",
      "source": [
        "print(model.feature_importances_)"
      ],
      "metadata": {
        "colab": {
          "base_uri": "https://localhost:8080/"
        },
        "id": "0BeGcZAY0G-U",
        "outputId": "7d160eed-c0a3-48c3-e1fa-383d85b546db"
      },
      "execution_count": 41,
      "outputs": [
        {
          "output_type": "stream",
          "name": "stdout",
          "text": [
            "[0.04204073 0.04216718 0.34483285 0.10250725 0.15843223 0.1561874\n",
            " 0.0350124  0.01001977 0.07803285 0.01285867 0.01790866]\n"
          ]
        }
      ]
    },
    {
      "cell_type": "code",
      "source": [
        "feat_importances = pd.Series(model.feature_importances_, index=X.columns)\n",
        "feat_importances.nlargest(10).plot(kind='barh')\n",
        "plt.show()"
      ],
      "metadata": {
        "colab": {
          "base_uri": "https://localhost:8080/",
          "height": 265
        },
        "id": "iNVHVFrk0Kw3",
        "outputId": "0d13449e-cd4a-4778-9c7b-73f339870445"
      },
      "execution_count": 42,
      "outputs": [
        {
          "output_type": "display_data",
          "data": {
            "text/plain": [
              "<Figure size 432x288 with 1 Axes>"
            ],
            "image/png": "[encoded data removed]"
          },
          "metadata": {
            "needs_background": "light"
          }
        }
      ]
    },
    {
      "cell_type": "code",
      "source": [
        "X=X.drop(['Securities Account'],axis=1)"
      ],
      "metadata": {
        "id": "GEgyPZX00OWc"
      },
      "execution_count": 43,
      "outputs": []
    },
    {
      "cell_type": "code",
      "source": [
        "scaler=StandardScaler()\n",
        "scaler.fit(X)\n",
        "X=scaler.transform(X)"
      ],
      "metadata": {
        "id": "S6kOs-wX0oUW"
      },
      "execution_count": 44,
      "outputs": []
    },
    {
      "cell_type": "code",
      "source": [
        "X.shape"
      ],
      "metadata": {
        "colab": {
          "base_uri": "https://localhost:8080/"
        },
        "id": "K_wb3rhh0tTK",
        "outputId": "4a6b65e0-ee04-4012-9a56-2150670c9e25"
      },
      "execution_count": 45,
      "outputs": [
        {
          "output_type": "execute_result",
          "data": {
            "text/plain": [
              "(5000, 10)"
            ]
          },
          "metadata": {},
          "execution_count": 45
        }
      ]
    },
    {
      "cell_type": "code",
      "source": [
        "d_trees = np.arange(1, 200)\n",
        "train_accuracy = np.empty(len(d_trees))\n",
        "X_train, X_test, y_train, y_test = train_test_split(X, y, test_size=0.2, random_state=51)\n",
        "for i in (d_trees):\n",
        "    rfc = RandomForestClassifier(n_estimators=i)\n",
        "    rfc.fit(X_train, y_train)\n",
        "     \n",
        "    # Compute training and test data accuracy\n",
        "    y_pred = rfc.predict(X_test)\n",
        "    #metrics.accuracy_score(b_test, y_pred)\n",
        "    train_accuracy[i-1] = metrics.accuracy_score(y_test, y_pred)"
      ],
      "metadata": {
        "id": "QK1NIGjF0wDA"
      },
      "execution_count": 46,
      "outputs": []
    },
    {
      "cell_type": "code",
      "source": [
        "plt.plot(d_trees,train_accuracy, label = 'Testing dataset Accuracy')\n",
        "\n",
        " \n",
        "plt.legend()\n",
        "plt.xlabel('No. of Trees')\n",
        "plt.ylabel('Accuracy')\n",
        "\n",
        "plt.show()"
      ],
      "metadata": {
        "colab": {
          "base_uri": "https://localhost:8080/",
          "height": 282
        },
        "id": "nd191Zny00eK",
        "outputId": "ef595154-4912-4185-fcdc-a1bbacf0e0b0"
      },
      "execution_count": 47,
      "outputs": [
        {
          "output_type": "display_data",
          "data": {
            "text/plain": [
              "<Figure size 432x288 with 1 Axes>"
            ],
            "image/png": "[encoded data removed]"
          },
          "metadata": {
            "needs_background": "light"
          }
        }
      ]
    },
    {
      "cell_type": "code",
      "source": [
        "clf = RandomForestClassifier(random_state=3)"
      ],
      "metadata": {
        "id": "wSSy-xMf03l0"
      },
      "execution_count": 69,
      "outputs": []
    },
    {
      "cell_type": "code",
      "source": [
        "score_rf=cross_val_score(clf,X, y,cv=5)\n",
        "print(score_rf)\n",
        "print('avg',np.average(score_rf))"
      ],
      "metadata": {
        "colab": {
          "base_uri": "https://localhost:8080/"
        },
        "id": "5BuB3EMz07wL",
        "outputId": "d635c1eb-6e40-4dfd-d6f2-977f5e24a8a3"
      },
      "execution_count": 70,
      "outputs": [
        {
          "output_type": "stream",
          "name": "stdout",
          "text": [
            "[0.989 0.988 0.986 0.993 0.987]\n",
            "avg 0.9885999999999999\n"
          ]
        }
      ]
    },
    {
      "cell_type": "code",
      "source": [
        "bg = BaggingClassifier(RandomForestClassifier(),max_samples=0.5, max_features=1.0,random_state=2)"
      ],
      "metadata": {
        "id": "kOxS656P0-RL"
      },
      "execution_count": 50,
      "outputs": []
    },
    {
      "cell_type": "code",
      "source": [
        "score_rf_=cross_val_score(bg,X, y,cv=5)\n",
        "print(score_rf_)\n",
        "print('avg',np.average(score_rf_))"
      ],
      "metadata": {
        "colab": {
          "base_uri": "https://localhost:8080/"
        },
        "id": "G-l0dCr-1M9f",
        "outputId": "05a5a70b-7ef4-4d0a-afc0-2c83daee0ceb"
      },
      "execution_count": 51,
      "outputs": [
        {
          "output_type": "stream",
          "name": "stdout",
          "text": [
            "[0.987 0.983 0.983 0.988 0.987]\n",
            "avg 0.9856\n"
          ]
        }
      ]
    },
    {
      "cell_type": "code",
      "source": [
        "ad = AdaBoostClassifier(RandomForestClassifier(),learning_rate=0.01,random_state=4)"
      ],
      "metadata": {
        "id": "wblK0C5l1SK3"
      },
      "execution_count": 52,
      "outputs": []
    },
    {
      "cell_type": "code",
      "source": [
        "scorerf_=cross_val_score(ad,X, y,cv=5)\n",
        "print(scorerf_)\n",
        "print('avg',np.average(scorerf_))"
      ],
      "metadata": {
        "colab": {
          "base_uri": "https://localhost:8080/"
        },
        "id": "IGT0PpWY1WEl",
        "outputId": "3f5ca17b-d40c-41b9-ad6b-a28216106ca5"
      },
      "execution_count": 53,
      "outputs": [
        {
          "output_type": "stream",
          "name": "stdout",
          "text": [
            "[0.987 0.987 0.985 0.992 0.988]\n",
            "avg 0.9878\n"
          ]
        }
      ]
    },
    {
      "cell_type": "code",
      "source": [
        "model = GradientBoostingClassifier(random_state=6)"
      ],
      "metadata": {
        "id": "1NEvs7XT1Y6H"
      },
      "execution_count": 54,
      "outputs": []
    },
    {
      "cell_type": "code",
      "source": [
        "scoe_rf_=cross_val_score(model,X, y,cv=5)\n",
        "print(scoe_rf_)\n",
        "print('avg',np.average(scoe_rf_))"
      ],
      "metadata": {
        "colab": {
          "base_uri": "https://localhost:8080/"
        },
        "id": "ppAguYDr1doC",
        "outputId": "d083e213-b7d4-456c-bbf5-dd1fb12fc352"
      },
      "execution_count": 55,
      "outputs": [
        {
          "output_type": "stream",
          "name": "stdout",
          "text": [
            "[0.987 0.988 0.98  0.99  0.987]\n",
            "avg 0.9864\n"
          ]
        }
      ]
    },
    {
      "cell_type": "code",
      "source": [
        "clf= SVC(kernel='linear',probability=True,random_state=1)"
      ],
      "metadata": {
        "id": "ZbJA4Rm-1gI0"
      },
      "execution_count": 56,
      "outputs": []
    },
    {
      "cell_type": "code",
      "source": [
        "sore_r_f_=cross_val_score(clf,X, y,cv=5)\n",
        "print(sore_r_f_)\n",
        "print('avg',np.average(sore_r_f_))"
      ],
      "metadata": {
        "colab": {
          "base_uri": "https://localhost:8080/"
        },
        "id": "Pkas7Xyt1lBq",
        "outputId": "cf2455e8-8018-4969-bec6-dba6edf07180"
      },
      "execution_count": 57,
      "outputs": [
        {
          "output_type": "stream",
          "name": "stdout",
          "text": [
            "[0.951 0.953 0.957 0.945 0.952]\n",
            "avg 0.9515999999999998\n"
          ]
        }
      ]
    },
    {
      "cell_type": "code",
      "source": [
        "clf= SVC(kernel='rbf',probability=True,random_state=1)"
      ],
      "metadata": {
        "id": "wtW22wmE1nWs"
      },
      "execution_count": 58,
      "outputs": []
    },
    {
      "cell_type": "code",
      "source": [
        "sore_r_f_=cross_val_score(clf,X, y,cv=5)\n",
        "print(sore_r_f_)\n",
        "print('avg',np.average(sore_r_f_))"
      ],
      "metadata": {
        "colab": {
          "base_uri": "https://localhost:8080/"
        },
        "id": "w6QWV-Xo1ru7",
        "outputId": "4e6f0e45-56e8-4a5f-8746-949bd1298ab4"
      },
      "execution_count": 59,
      "outputs": [
        {
          "output_type": "stream",
          "name": "stdout",
          "text": [
            "[0.979 0.974 0.977 0.977 0.967]\n",
            "avg 0.9747999999999999\n"
          ]
        }
      ]
    },
    {
      "cell_type": "code",
      "source": [
        "from sklearn.neighbors import KNeighborsClassifier\n",
        "from sklearn.pipeline import Pipeline"
      ],
      "metadata": {
        "id": "Zc-3asBV1tdg"
      },
      "execution_count": 60,
      "outputs": []
    },
    {
      "cell_type": "code",
      "source": [
        "modol = KNeighborsClassifier()"
      ],
      "metadata": {
        "id": "HOCmTLnn1w8L"
      },
      "execution_count": 61,
      "outputs": []
    },
    {
      "cell_type": "code",
      "source": [
        "ore_r_f_=cross_val_score(modol,X, y,cv=5)\n",
        "print(ore_r_f_)\n",
        "print('avg',np.average(ore_r_f_))"
      ],
      "metadata": {
        "colab": {
          "base_uri": "https://localhost:8080/"
        },
        "id": "WRV0gpfu1zUc",
        "outputId": "d136aa9f-fd5e-4539-e020-b85af56db0ad"
      },
      "execution_count": 62,
      "outputs": [
        {
          "output_type": "stream",
          "name": "stdout",
          "text": [
            "[0.961 0.965 0.963 0.954 0.955]\n",
            "avg 0.9596\n"
          ]
        }
      ]
    },
    {
      "cell_type": "code",
      "source": [
        "clf_ = MLPClassifier(hidden_layer_sizes=(6,6),\n",
        "                    max_iter = 60,\n",
        "                    random_state=5,\n",
        "                    verbose=True,\n",
        "                    learning_rate_init=0.01)"
      ],
      "metadata": {
        "id": "sLwD_DwM12A_"
      },
      "execution_count": 63,
      "outputs": []
    },
    {
      "cell_type": "code",
      "source": [
        "ore_r_f_=cross_val_score(clf_,X, y,cv=5)\n",
        "print(ore_r_f_)\n",
        "print('avg',np.average(ore_r_f_))"
      ],
      "metadata": {
        "colab": {
          "base_uri": "https://localhost:8080/"
        },
        "id": "kYvXPIAi15_M",
        "outputId": "f75479b1-2d9d-45fd-a69b-47fe7e74b018"
      },
      "execution_count": 64,
      "outputs": [
        {
          "output_type": "stream",
          "name": "stdout",
          "text": [
            "Iteration 1, loss = 0.55189563\n",
            "Iteration 2, loss = 0.23634302\n",
            "Iteration 3, loss = 0.19571994\n",
            "Iteration 4, loss = 0.16816016\n",
            "Iteration 5, loss = 0.14337037\n",
            "Iteration 6, loss = 0.12044769\n",
            "Iteration 7, loss = 0.10402410\n",
            "Iteration 8, loss = 0.09283115\n",
            "Iteration 9, loss = 0.08495206\n",
            "Iteration 10, loss = 0.07826005\n",
            "Iteration 11, loss = 0.07445670\n",
            "Iteration 12, loss = 0.07141842\n",
            "Iteration 13, loss = 0.06678023\n",
            "Iteration 14, loss = 0.06516550\n",
            "Iteration 15, loss = 0.06400175\n",
            "Iteration 16, loss = 0.06192660\n",
            "Iteration 17, loss = 0.05912129\n",
            "Iteration 18, loss = 0.05811074\n",
            "Iteration 19, loss = 0.05837381\n",
            "Iteration 20, loss = 0.05736131\n",
            "Iteration 21, loss = 0.05783856\n",
            "Iteration 22, loss = 0.05656549\n",
            "Iteration 23, loss = 0.05673750\n",
            "Iteration 24, loss = 0.05590749\n",
            "Iteration 25, loss = 0.05485786\n",
            "Iteration 26, loss = 0.05448771\n",
            "Iteration 27, loss = 0.05260130\n",
            "Iteration 28, loss = 0.05429538\n",
            "Iteration 29, loss = 0.05287129\n",
            "Iteration 30, loss = 0.05086996\n",
            "Iteration 31, loss = 0.05155631\n",
            "Iteration 32, loss = 0.05074964\n",
            "Iteration 33, loss = 0.05075699\n",
            "Iteration 34, loss = 0.04923743\n",
            "Iteration 35, loss = 0.05176171\n",
            "Iteration 36, loss = 0.05110636\n",
            "Iteration 37, loss = 0.05066860\n",
            "Iteration 38, loss = 0.05021612\n",
            "Iteration 39, loss = 0.05015581\n",
            "Iteration 40, loss = 0.04787757\n",
            "Iteration 41, loss = 0.04785929\n",
            "Iteration 42, loss = 0.04823035\n",
            "Iteration 43, loss = 0.05167114\n",
            "Iteration 44, loss = 0.04902832\n",
            "Iteration 45, loss = 0.04827375\n",
            "Iteration 46, loss = 0.04713188\n",
            "Iteration 47, loss = 0.04731611\n",
            "Iteration 48, loss = 0.04873958\n",
            "Iteration 49, loss = 0.04925505\n",
            "Iteration 50, loss = 0.04756972\n",
            "Iteration 51, loss = 0.04568149\n",
            "Iteration 52, loss = 0.04560367\n",
            "Iteration 53, loss = 0.04612011\n",
            "Iteration 54, loss = 0.04550364\n",
            "Iteration 55, loss = 0.04501201\n",
            "Iteration 56, loss = 0.04613947\n",
            "Iteration 57, loss = 0.04521261\n",
            "Iteration 58, loss = 0.04546480\n",
            "Iteration 59, loss = 0.04422701\n",
            "Iteration 60, loss = 0.04463838\n",
            "Iteration 1, loss = 0.55562217\n",
            "Iteration 2, loss = 0.23278238\n",
            "Iteration 3, loss = 0.19070222\n",
            "Iteration 4, loss = 0.16276300\n",
            "Iteration 5, loss = 0.13734560\n",
            "Iteration 6, loss = 0.11416581\n",
            "Iteration 7, loss = 0.09954905\n",
            "Iteration 8, loss = 0.08796664\n",
            "Iteration 9, loss = 0.08084942\n",
            "Iteration 10, loss = 0.07587983\n",
            "Iteration 11, loss = 0.07301842\n",
            "Iteration 12, loss = 0.06956446\n",
            "Iteration 13, loss = 0.06579356\n",
            "Iteration 14, loss = 0.06359030\n",
            "Iteration 15, loss = 0.06212860\n",
            "Iteration 16, loss = 0.06130758\n",
            "Iteration 17, loss = 0.05897368\n",
            "Iteration 18, loss = 0.05784810\n",
            "Iteration 19, loss = 0.05811710\n",
            "Iteration 20, loss = 0.05762865\n",
            "Iteration 21, loss = 0.05808961\n",
            "Iteration 22, loss = 0.05484732\n",
            "Iteration 23, loss = 0.05779675\n",
            "Iteration 24, loss = 0.05748492\n",
            "Iteration 25, loss = 0.05426751\n",
            "Iteration 26, loss = 0.05668805\n",
            "Iteration 27, loss = 0.05131760\n",
            "Iteration 28, loss = 0.05288239\n",
            "Iteration 29, loss = 0.05234975\n",
            "Iteration 30, loss = 0.05048849\n",
            "Iteration 31, loss = 0.05089220\n",
            "Iteration 32, loss = 0.05011204\n",
            "Iteration 33, loss = 0.05205167\n",
            "Iteration 34, loss = 0.04781453\n",
            "Iteration 35, loss = 0.04940384\n",
            "Iteration 36, loss = 0.04997560\n",
            "Iteration 37, loss = 0.04952384\n",
            "Iteration 38, loss = 0.04810479\n",
            "Iteration 39, loss = 0.04703506\n",
            "Iteration 40, loss = 0.04737164\n",
            "Iteration 41, loss = 0.04600722\n",
            "Iteration 42, loss = 0.04740903\n",
            "Iteration 43, loss = 0.04841342\n",
            "Iteration 44, loss = 0.04761981\n",
            "Iteration 45, loss = 0.04820167\n",
            "Iteration 46, loss = 0.04586675\n",
            "Iteration 47, loss = 0.04602861\n",
            "Iteration 48, loss = 0.04653763\n",
            "Iteration 49, loss = 0.04783081\n",
            "Iteration 50, loss = 0.04575022\n",
            "Iteration 51, loss = 0.04574674\n",
            "Iteration 52, loss = 0.04342180\n",
            "Iteration 53, loss = 0.04551513\n",
            "Iteration 54, loss = 0.04378034\n",
            "Iteration 55, loss = 0.04273154\n",
            "Iteration 56, loss = 0.04499650\n",
            "Iteration 57, loss = 0.04310918\n",
            "Iteration 58, loss = 0.04383185\n",
            "Iteration 59, loss = 0.04283270\n",
            "Iteration 60, loss = 0.04189633\n",
            "Iteration 1, loss = 0.55613464\n",
            "Iteration 2, loss = 0.23773907\n",
            "Iteration 3, loss = 0.19747820\n",
            "Iteration 4, loss = 0.17059759\n",
            "Iteration 5, loss = 0.14504157\n",
            "Iteration 6, loss = 0.12110327\n",
            "Iteration 7, loss = 0.10389448\n",
            "Iteration 8, loss = 0.09182198\n",
            "Iteration 9, loss = 0.08591274\n",
            "Iteration 10, loss = 0.08162614\n",
            "Iteration 11, loss = 0.08101283\n",
            "Iteration 12, loss = 0.07664006\n",
            "Iteration 13, loss = 0.07592421\n",
            "Iteration 14, loss = 0.07292329\n",
            "Iteration 15, loss = 0.07142324\n",
            "Iteration 16, loss = 0.06930620\n",
            "Iteration 17, loss = 0.06715872\n",
            "Iteration 18, loss = 0.06596828\n",
            "Iteration 19, loss = 0.06607489\n",
            "Iteration 20, loss = 0.06508582\n",
            "Iteration 21, loss = 0.06435105\n",
            "Iteration 22, loss = 0.06348345\n",
            "Iteration 23, loss = 0.06325171\n",
            "Iteration 24, loss = 0.06177438\n",
            "Iteration 25, loss = 0.06107548\n",
            "Iteration 26, loss = 0.06078734\n",
            "Iteration 27, loss = 0.05872447\n",
            "Iteration 28, loss = 0.05828463\n",
            "Iteration 29, loss = 0.05899967\n",
            "Iteration 30, loss = 0.05764675\n",
            "Iteration 31, loss = 0.05992427\n",
            "Iteration 32, loss = 0.05840045\n",
            "Iteration 33, loss = 0.05693239\n",
            "Iteration 34, loss = 0.05504773\n",
            "Iteration 35, loss = 0.05533095\n",
            "Iteration 36, loss = 0.05513373\n",
            "Iteration 37, loss = 0.05550821\n",
            "Iteration 38, loss = 0.05504417\n",
            "Iteration 39, loss = 0.05352422\n",
            "Iteration 40, loss = 0.05393983\n",
            "Iteration 41, loss = 0.05198288\n",
            "Iteration 42, loss = 0.05339933\n",
            "Iteration 43, loss = 0.05340334\n",
            "Iteration 44, loss = 0.05259169\n",
            "Iteration 45, loss = 0.05285545\n",
            "Iteration 46, loss = 0.05227385\n",
            "Iteration 47, loss = 0.05286008\n",
            "Iteration 48, loss = 0.05268078\n",
            "Iteration 49, loss = 0.05425789\n",
            "Iteration 50, loss = 0.05358342\n",
            "Iteration 51, loss = 0.05301412\n",
            "Iteration 52, loss = 0.05061334\n",
            "Iteration 53, loss = 0.05313075\n",
            "Iteration 54, loss = 0.05138451\n",
            "Iteration 55, loss = 0.05096056\n",
            "Iteration 56, loss = 0.05016513\n",
            "Iteration 57, loss = 0.05054882\n",
            "Iteration 58, loss = 0.05207486\n",
            "Iteration 59, loss = 0.05130012\n",
            "Iteration 60, loss = 0.05017345\n",
            "Iteration 1, loss = 0.55719097\n",
            "Iteration 2, loss = 0.23801190\n",
            "Iteration 3, loss = 0.19466590\n",
            "Iteration 4, loss = 0.16728626\n",
            "Iteration 5, loss = 0.14389073\n",
            "Iteration 6, loss = 0.12311859\n",
            "Iteration 7, loss = 0.10497572\n",
            "Iteration 8, loss = 0.09468564\n",
            "Iteration 9, loss = 0.08850270\n",
            "Iteration 10, loss = 0.08437029\n",
            "Iteration 11, loss = 0.08080562\n",
            "Iteration 12, loss = 0.07684666\n",
            "Iteration 13, loss = 0.07664555\n",
            "Iteration 14, loss = 0.07205626\n",
            "Iteration 15, loss = 0.07210743\n",
            "Iteration 16, loss = 0.06903495\n",
            "Iteration 17, loss = 0.06658741\n",
            "Iteration 18, loss = 0.06537880\n",
            "Iteration 19, loss = 0.06406610\n",
            "Iteration 20, loss = 0.06331095\n",
            "Iteration 21, loss = 0.06133106\n",
            "Iteration 22, loss = 0.06082658\n",
            "Iteration 23, loss = 0.05956347\n",
            "Iteration 24, loss = 0.05927321\n",
            "Iteration 25, loss = 0.05887844\n",
            "Iteration 26, loss = 0.05856644\n",
            "Iteration 27, loss = 0.05799753\n",
            "Iteration 28, loss = 0.05682177\n",
            "Iteration 29, loss = 0.05633777\n",
            "Iteration 30, loss = 0.05746833\n",
            "Iteration 31, loss = 0.05698337\n",
            "Iteration 32, loss = 0.05534217\n",
            "Iteration 33, loss = 0.05710505\n",
            "Iteration 34, loss = 0.05417204\n",
            "Iteration 35, loss = 0.05444080\n",
            "Iteration 36, loss = 0.05302104\n",
            "Iteration 37, loss = 0.05439283\n",
            "Iteration 38, loss = 0.05245107\n",
            "Iteration 39, loss = 0.05226386\n",
            "Iteration 40, loss = 0.05248874\n",
            "Iteration 41, loss = 0.05123735\n",
            "Iteration 42, loss = 0.05169141\n",
            "Iteration 43, loss = 0.05150987\n",
            "Iteration 44, loss = 0.05068602\n",
            "Iteration 45, loss = 0.05036442\n",
            "Iteration 46, loss = 0.04962929\n",
            "Iteration 47, loss = 0.04983288\n",
            "Iteration 48, loss = 0.04985394\n",
            "Iteration 49, loss = 0.04896760\n",
            "Iteration 50, loss = 0.04916357\n",
            "Iteration 51, loss = 0.05009473\n",
            "Iteration 52, loss = 0.04971439\n",
            "Iteration 53, loss = 0.04981272\n",
            "Iteration 54, loss = 0.04771520\n",
            "Iteration 55, loss = 0.04753099\n",
            "Iteration 56, loss = 0.04749455\n",
            "Iteration 57, loss = 0.04862567\n",
            "Iteration 58, loss = 0.04799430\n",
            "Iteration 59, loss = 0.04885384\n",
            "Iteration 60, loss = 0.04862857\n",
            "Iteration 1, loss = 0.55301403\n",
            "Iteration 2, loss = 0.23622647\n",
            "Iteration 3, loss = 0.19310871\n",
            "Iteration 4, loss = 0.16655811\n",
            "Iteration 5, loss = 0.14306450\n",
            "Iteration 6, loss = 0.12019196\n",
            "Iteration 7, loss = 0.10122995\n",
            "Iteration 8, loss = 0.09326135\n",
            "Iteration 9, loss = 0.08676013\n",
            "Iteration 10, loss = 0.08209684\n",
            "Iteration 11, loss = 0.07813725\n",
            "Iteration 12, loss = 0.07402803\n",
            "Iteration 13, loss = 0.07181635\n",
            "Iteration 14, loss = 0.06828033\n",
            "Iteration 15, loss = 0.06757847\n",
            "Iteration 16, loss = 0.06440614\n",
            "Iteration 17, loss = 0.06361347\n",
            "Iteration 18, loss = 0.06290722\n",
            "Iteration 19, loss = 0.06109354\n",
            "Iteration 20, loss = 0.06213906\n",
            "Iteration 21, loss = 0.05930025\n",
            "Iteration 22, loss = 0.05820339\n",
            "Iteration 23, loss = 0.05782635\n",
            "Iteration 24, loss = 0.05790329\n",
            "Iteration 25, loss = 0.05576999\n",
            "Iteration 26, loss = 0.05609728\n",
            "Iteration 27, loss = 0.05557943\n",
            "Iteration 28, loss = 0.05428729\n",
            "Iteration 29, loss = 0.05420335\n",
            "Iteration 30, loss = 0.05496226\n",
            "Iteration 31, loss = 0.05417891\n",
            "Iteration 32, loss = 0.05322327\n",
            "Iteration 33, loss = 0.05389164\n",
            "Iteration 34, loss = 0.05256112\n",
            "Iteration 35, loss = 0.05244163\n",
            "Iteration 36, loss = 0.05212642\n",
            "Iteration 37, loss = 0.05161120\n",
            "Iteration 38, loss = 0.05222288\n",
            "Iteration 39, loss = 0.05269660\n",
            "Iteration 40, loss = 0.05176617\n",
            "Iteration 41, loss = 0.05106369\n",
            "Iteration 42, loss = 0.05088270\n",
            "Iteration 43, loss = 0.05060315\n",
            "Iteration 44, loss = 0.05014179\n",
            "Iteration 45, loss = 0.05224924\n",
            "Iteration 46, loss = 0.05165832\n",
            "Iteration 47, loss = 0.05079059\n",
            "Iteration 48, loss = 0.05286066\n",
            "Iteration 49, loss = 0.05037606\n",
            "Iteration 50, loss = 0.04929638\n",
            "Iteration 51, loss = 0.05093479\n",
            "Iteration 52, loss = 0.04910400\n",
            "Iteration 53, loss = 0.04873283\n",
            "Iteration 54, loss = 0.04884512\n",
            "Iteration 55, loss = 0.04881731\n",
            "Iteration 56, loss = 0.04802060\n",
            "Iteration 57, loss = 0.04941410\n",
            "Iteration 58, loss = 0.04728051\n",
            "Iteration 59, loss = 0.04699069\n",
            "Iteration 60, loss = 0.04720442\n",
            "[0.981 0.982 0.982 0.984 0.974]\n",
            "avg 0.9806000000000001\n"
          ]
        }
      ]
    },
    {
      "cell_type": "code",
      "source": [],
      "metadata": {
        "id": "tbKI9OIQ18O8"
      },
      "execution_count": null,
      "outputs": []
    }
  ]
}